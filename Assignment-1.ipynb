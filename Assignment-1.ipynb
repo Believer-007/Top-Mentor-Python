{
 "cells": [
  {
   "cell_type": "markdown",
   "id": "86da4cd9-7298-4ae2-a89a-a61e466545ad",
   "metadata": {},
   "source": [
    "# Python Basic Assignment"
   ]
  },
  {
   "cell_type": "markdown",
   "id": "2130bef6-346e-4afc-aae9-ea6dd5eeaeaa",
   "metadata": {},
   "source": [
    "## Program -1"
   ]
  },
  {
   "cell_type": "code",
   "execution_count": null,
   "id": "dc256f32-88fb-456d-9327-a689dc81c388",
   "metadata": {},
   "outputs": [],
   "source": [
    "#Simple Message: Store a message in a variable, and then print that message.\n",
    "\n",
    "msg = \"Hello Top Mentor\"\n",
    "print(msg)"
   ]
  },
  {
   "cell_type": "markdown",
   "id": "b4cfa18a-e8c4-480b-bf92-ad4e81eb59ef",
   "metadata": {},
   "source": [
    "## Program -2"
   ]
  },
  {
   "cell_type": "code",
   "execution_count": 2,
   "id": "1a46506a-327e-4e3f-b346-312577c9fe4f",
   "metadata": {},
   "outputs": [
    {
     "name": "stdout",
     "output_type": "stream",
     "text": [
      "Hello Top Mentor\n",
      "Great course offered\n"
     ]
    }
   ],
   "source": [
    "#Store a message in a variable and print that message. Then change the value of your variable to a new message and print the new message.\n",
    "msg = \"Hello Top Mentor\"\n",
    "print(msg)\n",
    "\n",
    "msg = \"Great course offered\"\n",
    "print(msg)\n"
   ]
  },
  {
   "cell_type": "markdown",
   "id": "e65b0af9-cd7d-4523-933e-e9828191343b",
   "metadata": {},
   "source": [
    "## Program -3"
   ]
  },
  {
   "cell_type": "code",
   "execution_count": 7,
   "id": "a5b06276-3832-48ce-a174-863213943f33",
   "metadata": {},
   "outputs": [
    {
     "name": "stdout",
     "output_type": "stream",
     "text": [
      "Hello Batman where is your mobil today\n"
     ]
    }
   ],
   "source": [
    "# Store a person’s name in a variable and print a message to that person.\n",
    "# Your message should be simple, such as, “Hello Eric, would you like to\n",
    "# learn some Python today?”\n",
    "\n",
    "name = \"Batman\"\n",
    "\n",
    "print('Hello {} where is your mobil today'.format(name))"
   ]
  },
  {
   "cell_type": "markdown",
   "id": "a61a8920-4ed1-4e1e-80d3-fb9680c5c3ac",
   "metadata": {},
   "source": [
    "## Program -4"
   ]
  },
  {
   "cell_type": "code",
   "execution_count": 28,
   "id": "2c65089b-d392-4203-8e69-73ad5c665679",
   "metadata": {},
   "outputs": [
    {
     "name": "stdout",
     "output_type": "stream",
     "text": [
      "Once Iron-Man said ,\"It's not about how much we lost, it's about how much we have left.\"\n"
     ]
    }
   ],
   "source": [
    "# Find a quote from a famous person you admire. Print the quote and the\n",
    "# name of its author. Your output should look something like the following,\n",
    "# including the quotation marks: Albert Einstein once said, “A person who\n",
    "# never made a mistake never tried anything new.”\n",
    "\n",
    "print('''Once Iron-Man said ,\"It's not about how much we lost, it's about how much we have left.\"''')\n"
   ]
  },
  {
   "cell_type": "markdown",
   "id": "ff0038d6-e548-4f7e-bf99-1901bd35f145",
   "metadata": {},
   "source": [
    "## Program -5"
   ]
  },
  {
   "cell_type": "code",
   "execution_count": 32,
   "id": "83507dce-086e-4616-851c-f9f8f7a516fc",
   "metadata": {},
   "outputs": [
    {
     "name": "stdout",
     "output_type": "stream",
     "text": [
      "Tony-starc once said ,\"It's not about how much we lost, it's about how much we have left.\"\n"
     ]
    }
   ],
   "source": [
    "# Repeat Exercise 4, but this time store the famous person’s name in a\n",
    "# variable called famous_person. Then compose your message and store it in\n",
    "# a new variable called message. Print your message.\n",
    "\n",
    "famous_person = \"Tony-starc\"\n",
    "quote = '''once said ,\"It's not about how much we lost, it's about how much we have left.\"'''\n",
    "\n",
    "print(famous_person + \" \" + quote)\n",
    "\n"
   ]
  },
  {
   "cell_type": "markdown",
   "id": "38acd76b-17eb-453c-87a8-223ad5e94e81",
   "metadata": {},
   "source": [
    "## Program -6"
   ]
  },
  {
   "cell_type": "code",
   "execution_count": 35,
   "id": "761cd9f6-ad0f-44c3-a596-d5c68a935c6f",
   "metadata": {},
   "outputs": [
    {
     "name": "stdout",
     "output_type": "stream",
     "text": [
      "8\n",
      "8\n",
      "8\n",
      "8\n"
     ]
    }
   ],
   "source": [
    "# Write addition, subtraction, multiplication, and division operations that\n",
    "# each result in the number 8. Be sure to enclose your operations in print\n",
    "# statements to see the results. You should create four lines that look like\n",
    "# this: print (5 + 3)\n",
    "# Your output should simply be four lines with the number 8 appearing once\n",
    "# on each line.\n",
    "\n",
    "print(4+4)\n",
    "print(12-4)\n",
    "print(4*2)\n",
    "print(int(16/2))\n",
    "\n"
   ]
  },
  {
   "cell_type": "markdown",
   "id": "9c65cf11-3890-40a2-b01b-cebbaeffb451",
   "metadata": {},
   "source": [
    "## Program -7"
   ]
  },
  {
   "cell_type": "code",
   "execution_count": 36,
   "id": "afa63782-34d5-48bf-97ed-59ee5c4d2431",
   "metadata": {},
   "outputs": [
    {
     "name": "stdout",
     "output_type": "stream",
     "text": [
      "My Date of Birth is 7\n"
     ]
    }
   ],
   "source": [
    "# Store your favourite number in a variable. Then, using that variable, create\n",
    "# a message that reveals your favourite number. Print that message.\n",
    "\n",
    "DOB = 7\n",
    "statement = \"My Date of Birth is \" + str(DOB)\n",
    "\n",
    "print(statement)\n",
    "\n"
   ]
  },
  {
   "cell_type": "markdown",
   "id": "eb8016fe-b625-4b8c-ba5f-99cbe17a26ca",
   "metadata": {},
   "source": [
    "## Program -8"
   ]
  },
  {
   "cell_type": "code",
   "execution_count": 37,
   "id": "382d22d2-6d02-412f-a65d-1d80a1f31552",
   "metadata": {},
   "outputs": [
    {
     "name": "stdout",
     "output_type": "stream",
     "text": [
      "My Date of Birth is 7\n",
      "Tony-starc once said ,\"It's not about how much we lost, it's about how much we have left.\"\n"
     ]
    }
   ],
   "source": [
    "# Choose two of the programs you’ve written and add at least one comment\n",
    "# to each. If you don’t have anything specific to write because your programs\n",
    "# are too simple at this point, just add your name and the current date at the\n",
    "# top of each program file. Then write one sentence describing what the\n",
    "# program does.\n",
    "\n",
    "DOB = 7\n",
    "statement = \"My Date of Birth is \" + str(DOB)  #adding number to a string by convert integer into string using str()\n",
    "print(statement)\n",
    "\n",
    "famous_person = \"Tony-starc\"\n",
    "quote = '''once said ,\"It's not about how much we lost, it's about how much we have left.\"'''\n",
    "\n",
    "print(famous_person + \" \" + quote)   # Concatening the strings with adding space between them"
   ]
  },
  {
   "cell_type": "markdown",
   "id": "78abd294-d077-4cd4-85e8-150283c88531",
   "metadata": {},
   "source": [
    "## Program -9"
   ]
  },
  {
   "cell_type": "code",
   "execution_count": 38,
   "id": "de2f78b3-6777-405d-92a5-254a2e68479d",
   "metadata": {},
   "outputs": [
    {
     "name": "stdout",
     "output_type": "stream",
     "text": [
      "Ravi\n",
      "Aman\n",
      "Nikhil\n",
      "Bansal\n"
     ]
    }
   ],
   "source": [
    "# Store the names of a few of your friends in a list called names. Print each\n",
    "# person’s name by accessing each element in the list, one at a time.\n",
    "\n",
    "Brothers = ['Ravi', 'Aman' , 'Nikhil' , 'Bansal']\n",
    "\n",
    "for name in Brothers:\n",
    "    print(name)"
   ]
  },
  {
   "cell_type": "markdown",
   "id": "62a2a2c2-d5d8-4262-b6f1-571d9111c6d1",
   "metadata": {},
   "source": [
    "## Program -10"
   ]
  },
  {
   "cell_type": "code",
   "execution_count": 43,
   "id": "8ad68bd3-4d0b-4db5-b7b2-73138b9d3e8b",
   "metadata": {},
   "outputs": [
    {
     "name": "stdout",
     "output_type": "stream",
     "text": [
      "Feels lucky to have Ravi as my friend\n",
      "Feels lucky to have Aman as my friend\n",
      "Feels lucky to have Nikhil as my friend\n",
      "Feels lucky to have Bansal as my friend\n"
     ]
    }
   ],
   "source": [
    "# Start with the list you used in Exercise 9, but instead of just printing each\n",
    "# person’s name, print a message to them. The text of each message should\n",
    "# be the same, but each message should be personalized with the person’s\n",
    "# name.\n",
    "\n",
    "Brothers = ['Ravi', 'Aman' , 'Nikhil' , 'Bansal']\n",
    "\n",
    "for name in Brothers:\n",
    "    print(\"Feels lucky to have {} as my friend\".format(name))\n"
   ]
  },
  {
   "cell_type": "markdown",
   "id": "03340a33-aa92-4147-a77d-dc47a14d1ed2",
   "metadata": {},
   "source": [
    "## Program -11"
   ]
  },
  {
   "cell_type": "code",
   "execution_count": 51,
   "id": "bc18c928-247c-494e-9196-ac6f3fbc392c",
   "metadata": {},
   "outputs": [
    {
     "name": "stdout",
     "output_type": "stream",
     "text": [
      "I always was a Car enthusiast.\n",
      "Car feels more safe to me than any other transportations.\n",
      "If you need rest and want to travel at the same time then you should take Bus.\n",
      "You should listen indian Bus drivers playlist.\n",
      "I love naked Bikes most.\n",
      "By having Bike ride alone can release too much tensions.\n"
     ]
    }
   ],
   "source": [
    "# Think of your favourite mode of transportation, such as a motorcycle or a\n",
    "# car, and make a list that stores several examples. Use your list to print a\n",
    "# series of statements about these items, such as “I would like to own a\n",
    "# Honda motorcycle.”\n",
    "\n",
    "Vehicles = ['Car', 'Bus' , 'Bike']\n",
    "\n",
    "for item in Vehicles:\n",
    "    if item == 'Car':\n",
    "        print(\"I always was a {} enthusiast.\".format(item))\n",
    "        print(\"{} feels more safe to me than any other transportations.\".format(item))\n",
    "\n",
    "    elif item == 'Bike':\n",
    "        print(\"I love naked {}s most.\".format(item))\n",
    "        print(\"By having {} ride alone can release too much tensions.\".format(item))\n",
    "    else:\n",
    "        print(\"If you need rest and want to travel at the same time then you should take {}.\".format(item))\n",
    "        print(\"You should listen indian {} drivers playlist.\".format(item))\n",
    "        "
   ]
  }
 ],
 "metadata": {
  "kernelspec": {
   "display_name": "Python [conda env:base] *",
   "language": "python",
   "name": "conda-base-py"
  },
  "language_info": {
   "codemirror_mode": {
    "name": "ipython",
    "version": 3
   },
   "file_extension": ".py",
   "mimetype": "text/x-python",
   "name": "python",
   "nbconvert_exporter": "python",
   "pygments_lexer": "ipython3",
   "version": "3.12.4"
  }
 },
 "nbformat": 4,
 "nbformat_minor": 5
}
