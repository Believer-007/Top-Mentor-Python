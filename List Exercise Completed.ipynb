{
 "cells": [
  {
   "cell_type": "code",
   "execution_count": 1,
   "id": "e8252a8f-067d-469f-a073-a72123ac7fe4",
   "metadata": {},
   "outputs": [
    {
     "name": "stdout",
     "output_type": "stream",
     "text": [
      "Sum of all the items is 30\n"
     ]
    }
   ],
   "source": [
    "# Problem -1 ----  Write a Python program to sum all the items\n",
    "\n",
    "my_list = [1,22,3,4]\n",
    "total = 0\n",
    "\n",
    "for item in my_list:\n",
    "    total += item\n",
    "\n",
    "print(\"Sum of all the items is\", total)\n"
   ]
  },
  {
   "cell_type": "code",
   "execution_count": 2,
   "id": "c6312fe8-cf93-4029-82ae-0c2fcc80b34b",
   "metadata": {},
   "outputs": [
    {
     "name": "stdout",
     "output_type": "stream",
     "text": [
      "Product of all the items is 1440\n"
     ]
    }
   ],
   "source": [
    "# Problem -2 ----  Write a Python program to multiply all the items in a list\n",
    "\n",
    "my_list = [1,2,3,4,5]\n",
    "total = 12\n",
    "\n",
    "for item in my_list:\n",
    "    total *= item\n",
    "\n",
    "print(\"Product of all the items is\", total)"
   ]
  },
  {
   "cell_type": "code",
   "execution_count": 3,
   "id": "6f0deabb-c26a-4170-a77b-148379e95abd",
   "metadata": {},
   "outputs": [
    {
     "name": "stdout",
     "output_type": "stream",
     "text": [
      "Largest of the list is 542\n"
     ]
    }
   ],
   "source": [
    "# Problem -3 ---- Write a Python program to get the largest number from a list\n",
    "\n",
    "my_list = [1,2,3,4,5,23,542,11]\n",
    "my_list.sort()\n",
    "\n",
    "largest = my_list[-1]\n",
    "print(\"Largest of the list is\",largest)\n"
   ]
  },
  {
   "cell_type": "code",
   "execution_count": 4,
   "id": "892b19fe-ab8a-443f-a0b7-028fdd310475",
   "metadata": {},
   "outputs": [
    {
     "name": "stdout",
     "output_type": "stream",
     "text": [
      "Smallest of the list is 1\n"
     ]
    }
   ],
   "source": [
    "# Problem -4 ---- Write a Python program to get the smallest number from a list\n",
    "\n",
    "my_list = [1,2,3,4,5,23,542,11]\n",
    "my_list.sort()\n",
    "\n",
    "smallest = my_list[0]\n",
    "print(\"Smallest of the list is\",smallest)"
   ]
  },
  {
   "cell_type": "code",
   "execution_count": 5,
   "id": "9e73bcb5-ab4a-45c3-a5a5-1f486d67fff0",
   "metadata": {},
   "outputs": [
    {
     "name": "stdout",
     "output_type": "stream",
     "text": [
      "Total strings with same first and last character are 2\n"
     ]
    }
   ],
   "source": [
    "# Problem -5 ----  Write a Python program to count the number of strings where the string length is 2 or\n",
    "                   #more and the first and last character are same from a given list of strings\n",
    "\n",
    "my_list = ['abc', 'xyz', 'aba', '1221']\n",
    "count = 0\n",
    "\n",
    "for item in my_list:\n",
    "    \n",
    "    if item[0] == item[-1]:\n",
    "        count += 1\n",
    "        \n",
    "print(\"Total strings with same first and last character are\",count)\n",
    "    \n"
   ]
  },
  {
   "cell_type": "code",
   "execution_count": 6,
   "id": "e74cd52a-ee3d-4e75-86be-8e7ba3bc3c8b",
   "metadata": {},
   "outputs": [
    {
     "name": "stdout",
     "output_type": "stream",
     "text": [
      "Without duplicates : {1, 2, 3, 4, 5, 6, 7, 8}\n"
     ]
    }
   ],
   "source": [
    "# Problem -6 ---- Write a Python program to remove duplicates from a list\n",
    "\n",
    "my_list = [1,2,3,7,2,1,5,6,4,8,5,4]\n",
    "no_duplicates  = set(my_list)\n",
    "\n",
    "print(\"Without duplicates :\",no_duplicates)"
   ]
  },
  {
   "cell_type": "code",
   "execution_count": 7,
   "id": "ce57a444-cd9b-4bcf-92f4-8504c9c494b5",
   "metadata": {},
   "outputs": [
    {
     "name": "stdout",
     "output_type": "stream",
     "text": [
      "List is not empty\n"
     ]
    }
   ],
   "source": [
    "#Problem -7 ---- Write a Python program to check a list is empty or not\n",
    "\n",
    "my_list = [34,45,6,5,4,56,7]\n",
    "\n",
    "if len(my_list) != 0:\n",
    "    print(\"List is not empty\")\n",
    "    \n",
    "else:\n",
    "    print(\"List is empty\")"
   ]
  },
  {
   "cell_type": "code",
   "execution_count": 8,
   "id": "3e4ebd40-c498-439e-a69b-ae027ae2b9c3",
   "metadata": {},
   "outputs": [
    {
     "name": "stdout",
     "output_type": "stream",
     "text": [
      "Cloned list is  [10, 22, 44, 23, 4]\n"
     ]
    }
   ],
   "source": [
    "#Problem -8 ----Write a Python program to clone or copy a list\n",
    "\n",
    "my_list = [10, 22, 44, 23, 4]\n",
    "cloned_list = my_list.copy()\n",
    "print(\"Cloned list is \",cloned_list)\n"
   ]
  },
  {
   "cell_type": "code",
   "execution_count": 9,
   "id": "11bb5ad6-c8f9-42f9-9856-d34e1fc24167",
   "metadata": {},
   "outputs": [
    {
     "name": "stdout",
     "output_type": "stream",
     "text": [
      "Longer words list is : ['Longer', 'Words']\n"
     ]
    }
   ],
   "source": [
    "#Problem -9 ---- Write a Python program to find the list of words that are longer than n from a given list of words\n",
    "n = 4\n",
    "words = ['Word', 'Longer', 'give', 'Words']\n",
    "longer_words = []\n",
    "\n",
    "for item in words:\n",
    "    if len(item) > 4:\n",
    "        longer_words.append(item)\n",
    "    else:\n",
    "        continue\n",
    "\n",
    "print(\"Longer words list is :\",longer_words)\n",
    "        "
   ]
  },
  {
   "cell_type": "code",
   "execution_count": 10,
   "id": "67f8c502-6173-4751-a8d2-d59cc5d6bb17",
   "metadata": {},
   "outputs": [
    {
     "name": "stdout",
     "output_type": "stream",
     "text": [
      "Yes common element is available\n"
     ]
    }
   ],
   "source": [
    "#Problem -10 ---- Write a Program that get two lists as input and check if they have at least one common member\n",
    "\n",
    "my_list1 = [1,20,4,7,9]\n",
    "my_list2 = [5,60,7,11,10]\n",
    "\n",
    "for item in my_list2:\n",
    "    if item in my_list1:\n",
    "        print(\"Yes common element is available\")\n",
    "    else:\n",
    "        continue"
   ]
  },
  {
   "cell_type": "code",
   "execution_count": 11,
   "id": "ae59236d-8c11-4af3-9b11-400edcbc7fdb",
   "metadata": {},
   "outputs": [
    {
     "name": "stdout",
     "output_type": "stream",
     "text": [
      "Specified list after removing the 0th, 4th and 5th elements :  ['Dog', 'Elephant', 'Fox', 'Ponda']\n"
     ]
    }
   ],
   "source": [
    "#Problem -11 ---- Write a Python program to print a specified list after removing the 0th, 4th and 5th elements. (enumerate)\n",
    "\n",
    "list1 = [\"Cat\", \"Dog\", \"Elephant\", \"Fox\", \"Tiger\", \"Lion\", \"Ponda\"]\n",
    "list2 = []\n",
    "\n",
    "for index,item in enumerate(list1):\n",
    "\n",
    "    if index in [0,4,5]:\n",
    "        continue\n",
    "    else:\n",
    "        list2.append(item)\n",
    "\n",
    "print(\"Specified list after removing the 0th, 4th and 5th elements : \" , list2)"
   ]
  },
  {
   "cell_type": "code",
   "execution_count": 12,
   "id": "671264e4-4722-4c37-a994-90b960122d3d",
   "metadata": {},
   "outputs": [
    {
     "name": "stdout",
     "output_type": "stream",
     "text": [
      "List with no even numbers : [7, 81, 25, 23, 27]\n"
     ]
    }
   ],
   "source": [
    "#Problem -12 ---- Write a Python program to print the numbers of a specified list after removing even numbers from it\n",
    "\n",
    "list1 = [7,32,81,20,25,14,23,27]\n",
    "list2 = []\n",
    "\n",
    "for i in list1:\n",
    "    if i%2 == 0:\n",
    "        continue\n",
    "    else:\n",
    "        list2.append(i)\n",
    "\n",
    "print(\"List with no even numbers :\",list2)"
   ]
  },
  {
   "cell_type": "code",
   "execution_count": 13,
   "id": "45b54048-f812-4022-8ee1-35a698cd987e",
   "metadata": {},
   "outputs": [
    {
     "name": "stdout",
     "output_type": "stream",
     "text": [
      "Shuffled list : ['Ponda', 'Fox', 'Lion', 'Tiger', 'Elephant', 'Cat', 'Dog']\n"
     ]
    }
   ],
   "source": [
    "#Problem -13 ---- Write a Python program to shuffle and print a specified list (shuffle)\n",
    "\n",
    "list11 = [\"Cat\", \"Dog\", \"Elephant\", \"Fox\", \"Tiger\", \"Lion\", \"Ponda\"]\n",
    "\n",
    "print(\"Shuffled list :\", list(set(list11)))\n"
   ]
  },
  {
   "cell_type": "code",
   "execution_count": 14,
   "id": "7fd0afe3-8831-45ae-9b02-43bf0684c8d1",
   "metadata": {},
   "outputs": [
    {
     "name": "stdout",
     "output_type": "stream",
     "text": [
      "[1, 4, 9, 16, 25, 36, 49, 64, 81, 100, 121, 144, 169, 196, 225, 256, 289, 324, 361, 400, 441, 484, 529, 576, 625, 676, 729, 784, 841, 900]\n",
      "The first 5 elements are : [1, 4, 9, 16, 25] \n",
      "The last 5 elements are : [676, 729, 784, 841, 900] \n"
     ]
    }
   ],
   "source": [
    "#Problem -14 ---- Write a Python program to generate and print a list of first and last 5 elements where \n",
    "                #the values are square of numbers between 1 and 30\n",
    "\n",
    "list1 = []\n",
    "\n",
    "for i in range(1,31):\n",
    "    list1.append(i**2)\n",
    "\n",
    "print(list1)\n",
    "\n",
    "first_5 = list1[0:5]\n",
    "last_5 = list1[-5:]\n",
    "\n",
    "print(\"The first 5 elements are : {} \\nThe last 5 elements are : {} \".format(first_5,last_5))\n"
   ]
  },
  {
   "cell_type": "code",
   "execution_count": 15,
   "id": "6571fc04-e78a-46ba-9c44-eda5e40e2048",
   "metadata": {},
   "outputs": [
    {
     "name": "stdout",
     "output_type": "stream",
     "text": [
      "Permutations from the list :[(1, 4, 5), (1, 5, 4), (4, 1, 5), (4, 5, 1), (5, 1, 4), (5, 4, 1)]\n"
     ]
    }
   ],
   "source": [
    "#Problem -15 ---- Write a Python program to generate all permutations of a list in Python. (itertools)\n",
    "import itertools\n",
    "my_list = [1,4,5]\n",
    "permutation_list = []\n",
    "\n",
    "for pr in itertools.permutations(my_list , 3):\n",
    "    permutation_list.append(pr)\n",
    "\n",
    "print(\"Permutations from the list :{}\".format(permutation_list))\n",
    "    "
   ]
  },
  {
   "cell_type": "code",
   "execution_count": 16,
   "id": "63db0b9f-36e9-4c72-b7e1-89942c63dd29",
   "metadata": {},
   "outputs": [
    {
     "name": "stdout",
     "output_type": "stream",
     "text": [
      "Joined chars from list to string : Tutor Joes\n"
     ]
    }
   ],
   "source": [
    "#Problem -16 ---- Write a Python program to convert a list of characters into a string\n",
    "\n",
    "my_list = ['T','u','t','o','r',' ','J','o','e','s']\n",
    "\n",
    "strin = ''.join(my_list)\n",
    "\n",
    "print(\"Joined chars from list to string :\",strin)\n"
   ]
  },
  {
   "cell_type": "code",
   "execution_count": 17,
   "id": "82516b65-2aab-4f41-b44e-43026aa01d78",
   "metadata": {},
   "outputs": [
    {
     "name": "stdout",
     "output_type": "stream",
     "text": [
      "The index of 30 :  2\n"
     ]
    }
   ],
   "source": [
    "#Problem -17 ---- Write a Python program to find the index of an item in a specified list\n",
    "\n",
    "my_list = [20, 70, 30, 90, 10, 30, 90, 10, 80]\n",
    "\n",
    "# Item to find the index of 30\n",
    "\n",
    "for index,value in enumerate(my_list):\n",
    "\n",
    "    if value == 30:\n",
    "        print(\"The index of 30 : \",index)\n",
    "        break\n",
    "    else:\n",
    "        continue\n",
    "\n"
   ]
  },
  {
   "cell_type": "code",
   "execution_count": 18,
   "id": "a012d939-f185-4996-a485-8a9dc9735a83",
   "metadata": {},
   "outputs": [
    {
     "name": "stdout",
     "output_type": "stream",
     "text": [
      "Flattened list :  [20, 30, 70, 30, 90, 10, 30, 20, 70, 90, 10, 80]\n"
     ]
    }
   ],
   "source": [
    "#Problem -18 ---- Write a Python program to flatten a shallow list\n",
    "\n",
    "my_list = [[20,30,70],[30,90,10], [30,20], [70,90,10,80]]\n",
    "\n",
    "list2 = []\n",
    "\n",
    "for item in my_list:             ## I'm using nested for loops for solving this problem \n",
    "    for i in item:\n",
    "        list2.append(i)\n",
    "\n",
    "print(\"Flattened list : \" , list2)\n",
    "        "
   ]
  },
  {
   "cell_type": "code",
   "execution_count": 19,
   "id": "a76d5d2d-8ca3-449d-af97-30db7355df2e",
   "metadata": {},
   "outputs": [
    {
     "name": "stdout",
     "output_type": "stream",
     "text": [
      "After adding list :  [10, 20, 30, 40, 'Cat', 'Dog', 'Lion', 'Ponda']\n"
     ]
    }
   ],
   "source": [
    "#Problem -19 ---- Write a Python program to add a list to the second list\n",
    "\n",
    "list1 =[10, 20, 30, 40]\n",
    "list2 = [\"Cat\", \"Dog\", \"Lion\", \"Ponda\"]\n",
    "\n",
    "list3 = list1+list2\n",
    "\n",
    "print(\"After adding list : \",list3)"
   ]
  },
  {
   "cell_type": "code",
   "execution_count": 20,
   "id": "8c945507-bcd6-4ae8-b06a-d80c57c774a3",
   "metadata": {},
   "outputs": [
    {
     "name": "stdout",
     "output_type": "stream",
     "text": [
      "90\n",
      "Cat\n"
     ]
    }
   ],
   "source": [
    "#Problem -20 ---- Write a Python program to select an item randomly from a list Using random.choice()\n",
    "import random\n",
    "\n",
    "my_list = [20, 30, 70, 30, 90, 10, 30, 20, 70, 90, 10, 80]\n",
    "list1 = [\"Cat\", \"Dog\", \"Elephant\", \"Fox\", \"Tiger\", \"Lion\", \"Ponda\"]\n",
    "\n",
    "print(random.choice(my_list))\n",
    "print(random.choice(list1))\n"
   ]
  },
  {
   "cell_type": "code",
   "execution_count": 21,
   "id": "0c71ab66-6c34-4c24-becf-770840f452d1",
   "metadata": {},
   "outputs": [
    {
     "name": "stdout",
     "output_type": "stream",
     "text": [
      "True\n",
      "False\n",
      "False\n"
     ]
    }
   ],
   "source": [
    "#Problem -21 ---- Write a python program to check whether two lists are circularly identical \n",
    "\n",
    "list1 = [8, 8, 12, 12, 8]\n",
    "list2 = [8, 8, 8, 12, 12]\n",
    "list3 = [1, 8, 8, 12, 12]\n",
    "\n",
    "print(set(list1) == set(list2))\n",
    "print(set(list2) == set(list3))\n",
    "print(set(list1) == set(list3))"
   ]
  },
  {
   "cell_type": "code",
   "execution_count": 22,
   "id": "93d41aa2-b35a-4d90-8d70-d238ce5b2b92",
   "metadata": {},
   "outputs": [
    {
     "name": "stdout",
     "output_type": "stream",
     "text": [
      "Second smallest :  23\n",
      "Second smallesr :  4\n"
     ]
    }
   ],
   "source": [
    "#Problem -22 ---- Write a Python program to find the second smallest number in a list\n",
    "\n",
    "list1 = [7, 81, 25, 23, 27]\n",
    "list2 = [2,4,56,78,4,34,5,8,9]\n",
    "\n",
    "def second_smallest(list):\n",
    "\n",
    "    sorted_val = sorted(list)\n",
    "    return sorted_val[1]\n",
    "    \n",
    "\n",
    "\n",
    "print(\"Second smallest : \",second_smallest(list1))\n",
    "print(\"Second smallesr : \",second_smallest(list2))"
   ]
  },
  {
   "cell_type": "code",
   "execution_count": 23,
   "id": "256d278f-247c-446a-bea8-ae9395f5e42d",
   "metadata": {},
   "outputs": [
    {
     "name": "stdout",
     "output_type": "stream",
     "text": [
      "Second Largest :  27\n",
      "Second Largest :  56\n"
     ]
    }
   ],
   "source": [
    "#Problem -23 ---- Write a Python program to find the second largest number in a list\n",
    "\n",
    "list1 = [7, 81, 25, 23, 27]\n",
    "list2 = [2,4,56,78,4,34,5,8,9]\n",
    "\n",
    "def second_largest(list):\n",
    "\n",
    "    sorted_val = sorted(list)\n",
    "    return sorted_val[-2]\n",
    "    \n",
    "\n",
    "\n",
    "print(\"Second Largest : \", second_largest(list1))\n",
    "print(\"Second Largest : \",second_largest(list2))"
   ]
  },
  {
   "cell_type": "code",
   "execution_count": 24,
   "id": "e08b5cdd-6821-4eb7-adb2-d3a1e73c637e",
   "metadata": {},
   "outputs": [
    {
     "name": "stdout",
     "output_type": "stream",
     "text": [
      "Unique values are : {34, 4, 5, 9, 10, 78, 82, 56}\n"
     ]
    }
   ],
   "source": [
    "#Problem -24 ---- Write a Python program to get unique values from a list\n",
    "\n",
    "list1 = [82, 4, 10, 56, 78, 4, 34, 5, 10, 9]\n",
    "\n",
    "print(\"Unique values are :\" , set(list1))"
   ]
  },
  {
   "cell_type": "code",
   "execution_count": 25,
   "id": "2b08994f-8161-42a3-a493-54a65d600d5e",
   "metadata": {},
   "outputs": [
    {
     "name": "stdout",
     "output_type": "stream",
     "text": [
      "The frequencies of the elements in a list :  {10: 2, 30: 2, 50: 3, 20: 2, 60: 2, 40: 2}\n"
     ]
    }
   ],
   "source": [
    "#Problem -25 ---- Write a Python program to get the frequency of the elements in a list.\n",
    "\n",
    "\n",
    "my_list = [10, 30, 50, 10, 20, 60, 20, 60, 40, 40, 50, 50, 30]\n",
    "\n",
    "dictionary = {}           ## we can solve this problem by using dictionary \n",
    "\n",
    "for item in my_list:\n",
    "\n",
    "    if item in dictionary:\n",
    "        dictionary[item] += 1\n",
    "        \n",
    "    else:\n",
    "        dictionary[item] = 1\n",
    "        \n",
    "print(\"The frequencies of the elements in a list : \",dictionary)"
   ]
  },
  {
   "cell_type": "code",
   "execution_count": 26,
   "id": "f1a1890a-56e9-4202-bbb4-ec8f2937f526",
   "metadata": {},
   "outputs": [
    {
     "name": "stdout",
     "output_type": "stream",
     "text": [
      "List by concatenating list1 which range goes from 1 to N : \n",
      " ['T1', 'J1', 'T2', 'J2', 'T3', 'J3', 'T4', 'J4', 'T5', 'J5', 'T6', 'J6', 'T7', 'J7', 'T8', 'J8', 'T9', 'J9', 'T10', 'J10']\n"
     ]
    }
   ],
   "source": [
    "#Problem -26 ---- Create a list by concatenating a given list which range goes from 1 to n\n",
    "\n",
    "list1 = ['T', 'J']\n",
    "N = 10\n",
    "\n",
    "list2 = []\n",
    "\n",
    "## using nested for loops\n",
    "\n",
    "for i in range(1,N+1):\n",
    "    for j in list1:\n",
    "        list2.append(str(j)+str(i))\n",
    "\n",
    "print(\"List by concatenating list1 which range goes from 1 to N : \\n\" , list2)\n",
    " "
   ]
  },
  {
   "cell_type": "code",
   "execution_count": 27,
   "id": "61912a15-83bd-44ca-b2ec-3d00dd790bba",
   "metadata": {},
   "outputs": [
    {
     "name": "stdout",
     "output_type": "stream",
     "text": [
      "Unique identification number for x and s are :  (140720037379416, 2361441294192)\n",
      "\n",
      "----------------------------\n",
      "\n",
      "Unique identification string for x and s are :  ('0x7ffbefd73d58', '0x225d0de9770')\n"
     ]
    }
   ],
   "source": [
    "#Problem -27 ---- Write a Python program to get variable unique identification number or string\n",
    "\n",
    "x = 30\n",
    "s = \"Tutor Joes\"\n",
    "\n",
    "unique_num_id_x = id(x)\n",
    "unique_num_id_s = id(s)\n",
    "\n",
    "unique_str_id_x = hex(unique_num_id_x)\n",
    "unique_str_id_s = hex(unique_num_id_s)\n",
    "\n",
    "print(\"Unique identification number for x and s are : \" ,(unique_num_id_x,unique_num_id_s))\n",
    "print(\"\\n----------------------------\")\n",
    "print(\"\\nUnique identification string for x and s are : \" ,(unique_str_id_x,unique_str_id_s))\n"
   ]
  },
  {
   "cell_type": "code",
   "execution_count": 28,
   "id": "01d357ec-3bcb-4358-936f-a66d2d22a2dc",
   "metadata": {},
   "outputs": [
    {
     "name": "stdout",
     "output_type": "stream",
     "text": [
      "Common Elements are: {89, 34, 67}\n"
     ]
    }
   ],
   "source": [
    "#Problem -28 ----  Write a Python program to find common items from two lists\n",
    "\n",
    "list1 = [23,45,67,78,89,34]\n",
    "list2 = [34,89,55,56,39,67]\n",
    "\n",
    "print(\"Common Elements are:\" , (set(list1) & set(list2)) )\n"
   ]
  },
  {
   "cell_type": "code",
   "execution_count": 29,
   "id": "f9a057f1-cc54-46bf-bf94-32b9c19f8f6e",
   "metadata": {},
   "outputs": [],
   "source": [
    "#Problem -29 ---- Write a Python program to split a list based on first character of word\n",
    "\n",
    "list1 = [\"cat\", \"dog\", \"cow\", \"tiger\", \"lion\", \"Fox\", \"Shark\", \"Snake\", \"turtle\", \"mouse\", \"monkey\",\n",
    "\"bear\"]\n",
    "\n",
    "#################################\n",
    "#################################\n",
    "#################################\n",
    "#################################\n",
    "#################################\n",
    "#################################\n",
    "#################################\n",
    "#################################"
   ]
  },
  {
   "cell_type": "code",
   "execution_count": 30,
   "id": "ddd096b2-3353-4e5c-9946-917bc93a8668",
   "metadata": {},
   "outputs": [
    {
     "name": "stdout",
     "output_type": "stream",
     "text": [
      "Odd list : [1, 3, 7, 5, 9, 7, 9]\n"
     ]
    }
   ],
   "source": [
    "#Problem -30 ---- Write a Python program to select the odd number of a list\n",
    "\n",
    "list1 = [1,2,4,3,6,7,5,8,9,7,8,9,10]\n",
    "odd_list = []\n",
    "\n",
    "for item in list1:\n",
    "\n",
    "    if (item%2) != 0:\n",
    "        odd_list.append(item)\n",
    "        \n",
    "    else:\n",
    "        continue\n",
    "\n",
    "print(\"Odd list :\" ,odd_list)"
   ]
  },
  {
   "cell_type": "code",
   "execution_count": 31,
   "id": "12dbd5de-f7e6-4835-ac84-37f45db9537c",
   "metadata": {},
   "outputs": [
    {
     "name": "stdout",
     "output_type": "stream",
     "text": [
      "Unique values inside a list :  6\n"
     ]
    }
   ],
   "source": [
    "#Problem -31 ---- Write a Python Program to count unique values inside a list\n",
    "\n",
    "list1 = [10, 20, 30, 50, 80, 70, 70, 80, 10]\n",
    "\n",
    "print(\"Unique values inside a list : \",len(set(list1)))"
   ]
  },
  {
   "cell_type": "code",
   "execution_count": 32,
   "id": "e83e9e37-4a18-4877-941c-6c62dd4bec5f",
   "metadata": {},
   "outputs": [
    {
     "name": "stdout",
     "output_type": "stream",
     "text": [
      "Product excluding duplicates:  144\n"
     ]
    }
   ],
   "source": [
    "#Problem -32 ---- Write a Python Program to List product excluding duplicates\n",
    "\n",
    "list1 = [2, 1, 2, 4, 6, 4, 3, 2, 1]\n",
    "\n",
    "no_dupli = set(list1)\n",
    "\n",
    "list2 = list(no_dupli)\n",
    "\n",
    "product = 1\n",
    "\n",
    "for i in list2:\n",
    "    product = product*i\n",
    "\n",
    "print(\"Product excluding duplicates: \",product)\n",
    "\n"
   ]
  },
  {
   "cell_type": "code",
   "execution_count": 33,
   "id": "8a3bafb7-5bb7-4266-9d17-39693a6ad933",
   "metadata": {},
   "outputs": [
    {
     "name": "stdout",
     "output_type": "stream",
     "text": [
      "Dictionary:  {4: 3, 6: 1, 3: 3, 7: 1, 8: 2}\n",
      "Elements greater than k frequency :  [4, 3]\n"
     ]
    }
   ],
   "source": [
    "#Problem -33 ---- Write a Python Program to Extract elements with Frequency greater than K\n",
    "\n",
    "list1 = [4, 6, 4, 3, 3, 4, 3, 7, 8, 8]\n",
    "k = 2\n",
    "list2 = []\n",
    "\n",
    "dictionary = {}\n",
    "\n",
    "for item in list1:\n",
    "\n",
    "    if item in dictionary:\n",
    "        dictionary[item] += 1\n",
    "        \n",
    "    else:\n",
    "        dictionary[item] = 1\n",
    "\n",
    "print(\"Dictionary: \",dictionary)\n",
    "\n",
    "for key,value in dictionary.items():\n",
    "\n",
    "    if value > k:\n",
    "        list2.append(key)\n",
    "        \n",
    "    else:\n",
    "        continue\n",
    "\n",
    "print(\"Elements greater than k frequency : \",list2)\n",
    "        \n",
    "\n"
   ]
  },
  {
   "cell_type": "code",
   "execution_count": 34,
   "id": "45690076-5543-4170-88d4-939a2fb79406",
   "metadata": {},
   "outputs": [
    {
     "name": "stdout",
     "output_type": "stream",
     "text": [
      "True\n",
      "False\n"
     ]
    }
   ],
   "source": [
    "#Problem -34 ---- Write a Python Program to Test if List contains elements in Range\n",
    "my_list = [4, 5, 6, 8, 7, 3, 9]\n",
    "list3 = [1, 3, 7, 5, 9, 7, 9]\n",
    "list1 = sorted(my_list)\n",
    "list2 = []\n",
    "\n",
    "def list_in_range(list):\n",
    "\n",
    "    for i in range(min(list1),max(list1)+1):\n",
    "        list2.append(i)\n",
    "    \n",
    "    if list1 == list2:\n",
    "        result = True\n",
    "    else:\n",
    "        result =  False\n",
    "\n",
    "    return result\n",
    "\n",
    "print(list_in_range(list1))\n",
    "print(list_in_range(list3))        \n",
    "        "
   ]
  },
  {
   "cell_type": "code",
   "execution_count": 35,
   "id": "7b878844-d14c-4f9f-85b2-f038be179189",
   "metadata": {},
   "outputs": [
    {
     "name": "stdout",
     "output_type": "stream",
     "text": [
      "[18, 9]\n"
     ]
    }
   ],
   "source": [
    "#Problem -35 ---- Write a Python program to check if the list contains three consecutive common numbers in Python\n",
    "\n",
    "list1 = [18, 18, 18, 6, 3, 4, 9, 9, 9]\n",
    "list2 = []\n",
    "count = 1\n",
    "for i in range(len(list1)-2):       ## Solved it using reference for list index-error \n",
    "\n",
    "    if list1[i] == list1[i+1] and list1[i] == list1[i+2]:\n",
    "        list2.append(list1[i])\n",
    "\n",
    "print(list2)\n"
   ]
  },
  {
   "cell_type": "code",
   "execution_count": 36,
   "id": "93dcdc5f-c1d5-414f-a0ce-65eece8bf552",
   "metadata": {},
   "outputs": [
    {
     "name": "stdout",
     "output_type": "stream",
     "text": [
      "Strongest Neighbour list:  [20, 30, 30, 30, 400]\n"
     ]
    }
   ],
   "source": [
    "#Problem -36 ---- Write a Python program to find the Strongest Neighbour\n",
    "\n",
    "list1 = [10,20,30,20,30,400]\n",
    "list2 = []\n",
    "\n",
    "for i in range(len(list1)-1):\n",
    "    if list1[i] < list1[i+1]:\n",
    "        list2.append(list1[i+1])\n",
    "    else:\n",
    "        if list1[i+1] < list1[i+2]:\n",
    "            list2.append(list1[i+2])\n",
    "        \n",
    "print(\"Strongest Neighbour list: \", list2)\n",
    "            \n",
    "        \n",
    "\n",
    "    "
   ]
  },
  {
   "cell_type": "code",
   "execution_count": 37,
   "id": "085b83b7-a943-4474-bca8-0ae12ecf38ef",
   "metadata": {},
   "outputs": [
    {
     "name": "stdout",
     "output_type": "stream",
     "text": [
      "(4, 5, 6)\n",
      "(4, 6, 5)\n",
      "(5, 4, 6)\n",
      "(5, 6, 4)\n",
      "(6, 4, 5)\n",
      "(6, 5, 4)\n"
     ]
    }
   ],
   "source": [
    "#Problem -37 ----  Write a Python Program to print all Possible Combinations from the three Digits\n",
    "\n",
    "import itertools\n",
    "\n",
    "list1 = [4,5,6]\n",
    "\n",
    "for combination in itertools.permutations(list1,3):\n",
    "    print(combination)\n",
    "    "
   ]
  },
  {
   "cell_type": "code",
   "execution_count": 38,
   "id": "72aa86a6-ac25-45cf-b6c0-7bfb08938556",
   "metadata": {},
   "outputs": [],
   "source": [
    "#Problem -38 ---- Write a Python program to find all the Combinations in the list with the given condition\n",
    "list1 = ['Tutor Joes', ['Software', 'Computer'], ['Solution', 'Education']]\n",
    "\n",
    "############################################\n",
    "############################################\n",
    "############################################\n",
    "############################################\n",
    "############################################\n",
    "############################################\n",
    "############################################\n",
    "############################################\n",
    "############################################\n",
    "############################################\n",
    "############################################\n"
   ]
  },
  {
   "cell_type": "code",
   "execution_count": 39,
   "id": "c0da8456-6a3f-4de9-a3ff-324ad0f610ba",
   "metadata": {},
   "outputs": [
    {
     "name": "stdout",
     "output_type": "stream",
     "text": [
      "All the unique combinations for 1 & 2 are : [[('x', 3), ('y', 4), ('z', 5)], [('x', 3), ('z', 4), ('y', 5)], [('y', 3), ('x', 4), ('z', 5)], [('y', 3), ('z', 4), ('x', 5)], [('z', 3), ('x', 4), ('y', 5)], [('z', 3), ('y', 4), ('x', 5)]]\n",
      "\n",
      "--------------------------\n",
      "\n",
      "All the unique combinations for 3 & 4 are : [[('A', 1), ('B', 2), ('C', 3)], [('A', 1), ('C', 2), ('B', 3)], [('B', 1), ('A', 2), ('C', 3)], [('B', 1), ('C', 2), ('A', 3)], [('C', 1), ('A', 2), ('B', 3)], [('C', 1), ('B', 2), ('A', 3)]]\n"
     ]
    }
   ],
   "source": [
    "#Problem -39 ---- Write a Python program to get all unique combinations of two Lists\n",
    "import itertools\n",
    "\n",
    "my_list2 = [3,4,5]\n",
    "my_list1 = ['x','y','z']\n",
    "\n",
    "\n",
    "my_list3 = ['A','B','C']\n",
    "my_list4 = [1,2,3]\n",
    "\n",
    "def unique_combinations(list1,list2):\n",
    "    \n",
    "    result_list = []\n",
    "    \n",
    "    for comb in itertools.permutations(list1):\n",
    "        uniq_com = list(zip(comb,list2))              ## had take reference to use the zip function\n",
    "        result_list.append(uniq_com)\n",
    "\n",
    "    return result_list\n",
    "\n",
    "\n",
    "print(\"All the unique combinations for 1 & 2 are :\", unique_combinations(my_list1,my_list2))\n",
    "print(\"\\n--------------------------\\n\")\n",
    "print(\"All the unique combinations for 3 & 4 are :\", unique_combinations(my_list3,my_list4))\n",
    "      \n",
    "\n",
    "                 \n",
    "\n",
    "    "
   ]
  },
  {
   "cell_type": "code",
   "execution_count": 40,
   "id": "da10f60c-de24-40a7-ab7b-901eadc203a5",
   "metadata": {},
   "outputs": [
    {
     "name": "stdout",
     "output_type": "stream",
     "text": [
      "List without any occurances :  [3, 4, 6, 5]\n"
     ]
    }
   ],
   "source": [
    "#Problem -40 ---- Write a Python program to remove all the occurrences of an element from a list\n",
    "\n",
    "list1 = [1, 3, 4, 6, 5, 1]\n",
    "dictionary = {}\n",
    "list2 = []\n",
    "\n",
    "for item in list1:\n",
    "    \n",
    "    if item in dictionary:\n",
    "        dictionary[item] += 1    \n",
    "    else:\n",
    "        dictionary[item] = 1\n",
    "\n",
    "for key,value in dictionary.items():\n",
    "\n",
    "    if value > 1:\n",
    "        continue\n",
    "    else:\n",
    "        list2.append(key)\n",
    "        \n",
    "print(\"List without any occurances : \" , list2)      \n"
   ]
  },
  {
   "cell_type": "code",
   "execution_count": 41,
   "id": "9a2f2135-8a97-4efc-a250-e034b7b16bc8",
   "metadata": {},
   "outputs": [
    {
     "name": "stdout",
     "output_type": "stream",
     "text": [
      "List without consecutive K element records :  [('A', 'B', 'C', 'D'), ('H', 'D', 'B', 'C')]\n"
     ]
    }
   ],
   "source": [
    "#Problem -41 ---- Write a Python Program to Remove Consecutive K element records\n",
    "\n",
    "list1 = [ ('A', 'B', 'C', 'D'), ('B', 'C', 'C', 'I'), ('H', 'D', 'B', 'C'), ('C', 'C', 'G', 'F') ]\n",
    "list2 = []\n",
    "\n",
    "for i in list1:\n",
    "    \n",
    "        if len(set(i)) == len(i):\n",
    "            list2.append(i)\n",
    "        else:\n",
    "            continue\n",
    "print(\"List without consecutive K element records : \", list2)            \n",
    "\n",
    "    "
   ]
  },
  {
   "cell_type": "code",
   "execution_count": 42,
   "id": "8a5993bf-c8e0-49cb-b20a-55b541fda015",
   "metadata": {},
   "outputs": [
    {
     "name": "stdout",
     "output_type": "stream",
     "text": [
      "List after replacing index elements with elements in Other List :\n",
      "\n",
      "\n",
      " ['Education', 'Computer', 'Tutor Joes', 'Computer', 'Tutor Joes', 'Education', 'Education', 'Tutor Joes', 'Computer', 'Tutor Joes', 'Computer', 'Education']\n"
     ]
    }
   ],
   "source": [
    "#Problem -42 ---- Write a Python Program to Replace index elements with elements in Other List\n",
    "\n",
    "list1 = ['Tutor Joes', 'Computer', 'Education']\n",
    "list2 = [2, 1, 0, 1, 0, 2, 2, 0, 1, 0, 1, 2]\n",
    "\n",
    "\n",
    "def replace_index(list1,list2):\n",
    "\n",
    "    result_list = []\n",
    "\n",
    "    for i in list2:\n",
    "\n",
    "        result_list.append(list1[i])\n",
    "\n",
    "    return result_list\n",
    "\n",
    "\n",
    "print(\"List after replacing index elements with elements in Other List :\\n\\n\\n\" , replace_index(list1,list2))\n",
    "\n",
    "\n",
    "            \n",
    "\n",
    "            \n"
   ]
  },
  {
   "cell_type": "code",
   "execution_count": 43,
   "id": "c066c79e-21ac-4565-9509-cb391e8b1434",
   "metadata": {},
   "outputs": [
    {
     "name": "stdout",
     "output_type": "stream",
     "text": [
      " Retained records with N occurrences of K :  [(4, 5, 6, 5, 4), (5, 5, 2)]\n"
     ]
    }
   ],
   "source": [
    "#Problem -43 ---- Write a Python Program to Retain records with N occurrences of K\n",
    "\n",
    "list1 = [(4, 5, 6, 5, 4), (4, 5, 3), (5, 5, 2), (3, 4, 9)]\n",
    "list2 = []\n",
    "K = 5\n",
    "N = 2\n",
    "\n",
    "for item in list1:\n",
    "\n",
    "    if item.count(K) == N:\n",
    "        list2.append(item)\n",
    "    else:\n",
    "        continue\n",
    "    \n",
    "print(\" Retained records with N occurrences of K : \",list2)"
   ]
  },
  {
   "cell_type": "code",
   "execution_count": 44,
   "id": "4626febb-66d0-4874-8f27-8d9a2c1a7c53",
   "metadata": {},
   "outputs": [
    {
     "name": "stdout",
     "output_type": "stream",
     "text": [
      "Swapped Lists are :  (['D', 'E', 'F'], ['A', 'B', 'C'])\n"
     ]
    }
   ],
   "source": [
    "#Problem -44 ---- Write a Python Program to Swap elements in String list\n",
    "\n",
    "list1 = ['A','B','C']\n",
    "list2 = ['D','E','F']\n",
    "\n",
    "for i in range(len(list1)):\n",
    "\n",
    "    list1[i] , list2[i] = list2[i],list1[i]\n",
    "\n",
    "print(\"Swapped Lists are : \",(list1,list2))\n",
    "\n",
    "    \n"
   ]
  },
  {
   "cell_type": "code",
   "execution_count": 45,
   "id": "080f0bd6-f4c9-4b74-a944-b06f945e409a",
   "metadata": {},
   "outputs": [
    {
     "name": "stdout",
     "output_type": "stream",
     "text": [
      "Reversed list after reversing the order of list  :\n",
      " ['Education', 'Computer', 'joes', 'Tutor']\n",
      "\n",
      "\n",
      "Reversed list after reversing the strings in a list  :\n",
      " ['rotuT', 'seoj', 'retupmoC', 'noitacudE']\n"
     ]
    }
   ],
   "source": [
    "#Problem -45 ---- Write a Python program to reverse All Strings in String List\n",
    " \n",
    "list1 = ['Tutor', 'joes', 'Computer', 'Education']\n",
    "reversed_list = []\n",
    "reversed_list2 = []\n",
    "\n",
    "\n",
    "for i in range(1,len(list1)+1):\n",
    "    reversed_list.append(list1[-i])\n",
    "\n",
    "\n",
    "for i in list1:\n",
    "    reverse = i[::-1]\n",
    "    reversed_list2.append(reverse)\n",
    "\n",
    "\n",
    "print(\"Reversed list after reversing the order of list  :\\n\" , reversed_list)\n",
    "print(\"\\n\\nReversed list after reversing the strings in a list  :\\n\" , reversed_list2)\n"
   ]
  },
  {
   "cell_type": "code",
   "execution_count": 46,
   "id": "c5492906-ddd5-44a0-afd8-0f99f101f70f",
   "metadata": {},
   "outputs": [
    {
     "name": "stdout",
     "output_type": "stream",
     "text": [
      "Index of character at Kth position word: 3\n"
     ]
    }
   ],
   "source": [
    "#Problem -46 ---- Write a Python program to find the character position of Kth word from a list of strings\n",
    "\n",
    "list1 = ['Tutor', 'joes', 'Computer', 'Education']\n",
    "\n",
    "K = 20\n",
    "count = 0\n",
    "\n",
    "for item in list1:\n",
    "\n",
    "    count += len(item)\n",
    "    \n",
    "    if count >= K:\n",
    "        print(\"Index of character at Kth position word:\" ,list1.index(i))\n",
    "        break\n",
    "    else:\n",
    "        continue\n",
    "\n",
    "\n",
    "        "
   ]
  },
  {
   "cell_type": "code",
   "execution_count": 47,
   "id": "4ae975b5-2607-44a2-be3a-7c987cfd1485",
   "metadata": {},
   "outputs": [
    {
     "name": "stdout",
     "output_type": "stream",
     "text": [
      "Strings count with matching frequency : 3\n"
     ]
    }
   ],
   "source": [
    "#Problem -47 ---- Write a Python Program to Prefix frequency in string List\n",
    "\n",
    "list1 = ['TjC', 'TjCpp', 'TjPython', 'Java']\n",
    "Prefix = 'Tj'\n",
    "count = 0\n",
    "\n",
    "for item in list1:\n",
    "\n",
    "    if item.startswith(Prefix):\n",
    "        count += 1\n",
    "    else:\n",
    "        continue\n",
    "\n",
    "print(\"Strings count with matching frequency :\",count)\n",
    "\n"
   ]
  },
  {
   "cell_type": "code",
   "execution_count": 48,
   "id": "920e302d-c1d4-4057-92b3-1b979fe2bd32",
   "metadata": {},
   "outputs": [
    {
     "name": "stdout",
     "output_type": "stream",
     "text": [
      "Splited Strings on Prefix Occurrence : [['TjC', 'TjCpp', 'TjPython'], ['Java', 'tj']]\n"
     ]
    }
   ],
   "source": [
    "#Problem -48 ---- Write a Python Program to Split Strings on Prefix Occurrence\n",
    "\n",
    "list1 = ['TjC', 'TjCpp', 'TjPython', 'Java', 'tj']\n",
    "Prefix = 'Tj'\n",
    "\n",
    "with_pf = []\n",
    "without_pf = []\n",
    "\n",
    "for word in list1:\n",
    "\n",
    "    if word.startswith(Prefix):\n",
    "        with_pf.append(word)\n",
    "    else:\n",
    "        without_pf.append(word)\n",
    "\n",
    "print(\"Splited Strings on Prefix Occurrence :\" , [with_pf,without_pf])\n",
    "    "
   ]
  },
  {
   "cell_type": "code",
   "execution_count": 49,
   "id": "d87ce9b7-12db-4ede-97d1-c88f1dbc3769",
   "metadata": {},
   "outputs": [
    {
     "name": "stdout",
     "output_type": "stream",
     "text": [
      "List after replacing all Characters of a List Except the T character :  ['@', '@', 'T', '@', '@', '@']\n"
     ]
    }
   ],
   "source": [
    "#Problem -49 ---- Write a Python program to Replace all Characters of a List Except the given character\n",
    "\n",
    "list1 = ['P', 'Y', 'T', 'H', 'O', 'N']\n",
    "list2 = []\n",
    "\n",
    "for char in list1:\n",
    "\n",
    "    if char == 'T':\n",
    "        list2.append(char)\n",
    "    else:\n",
    "        list2.append('@')\n",
    "\n",
    "print(\"List after replacing all Characters of a List Except the T character : \", list2)\n",
    "\n",
    "        "
   ]
  },
  {
   "cell_type": "code",
   "execution_count": 50,
   "id": "370ecbe6-a553-4fb3-b5b0-8597dbe86631",
   "metadata": {},
   "outputs": [
    {
     "data": {
      "text/plain": [
       "[' Tutor Joes', ' Computer Educations']"
      ]
     },
     "execution_count": 50,
     "metadata": {},
     "output_type": "execute_result"
    }
   ],
   "source": [
    "#Problem -50 ---- Write a Python Program to Add Space between Potential Words\n",
    "\n",
    "['TutorJoes', 'ComputerEducations']\n",
    "[' Tutor Joes', ' Computer Educations']\n",
    "\n",
    "\n",
    "#################################\n",
    "#################################\n",
    "#################################\n",
    "#################################\n",
    "#################################\n",
    "#################################\n",
    "#################################\n",
    "#################################"
   ]
  }
 ],
 "metadata": {
  "kernelspec": {
   "display_name": "Python [conda env:base] *",
   "language": "python",
   "name": "conda-base-py"
  },
  "language_info": {
   "codemirror_mode": {
    "name": "ipython",
    "version": 3
   },
   "file_extension": ".py",
   "mimetype": "text/x-python",
   "name": "python",
   "nbconvert_exporter": "python",
   "pygments_lexer": "ipython3",
   "version": "3.12.4"
  }
 },
 "nbformat": 4,
 "nbformat_minor": 5
}
